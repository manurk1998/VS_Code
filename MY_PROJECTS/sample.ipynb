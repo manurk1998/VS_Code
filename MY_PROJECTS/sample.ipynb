{
 "cells": [
  {
   "attachments": {},
   "cell_type": "markdown",
   "metadata": {},
   "source": [
    "# Program that generate warning signals if the eyelids of the person are closed"
   ]
  },
  {
   "cell_type": "code",
   "execution_count": 16,
   "metadata": {},
   "outputs": [],
   "source": [
    "import cv2\n",
    "import cvzone\n",
    "from cvzone.FaceMeshModule import FaceMeshDetector\n",
    "import pyttsx3\n",
    "import winsound\n",
    "frequency = 2500  # Set Frequency To 2500 Hertz\n",
    "duration = 1000  # Set Duration To 1000 ms == 1 second"
   ]
  },
  {
   "cell_type": "code",
   "execution_count": 17,
   "metadata": {},
   "outputs": [],
   "source": [
    "# cap=cv2.VideoCapture(r'D:\\Area 98\\Computer_Vision\\Face_Detection\\video.mp4')\n",
    "cap=cv2.VideoCapture(0)\n",
    "txt_speech=pyttsx3.init() \n",
    "detector=FaceMeshDetector(maxFaces=1)\n"
   ]
  },
  {
   "cell_type": "code",
   "execution_count": 18,
   "metadata": {},
   "outputs": [],
   "source": [
    "#idlist=[22,23,24,26,110,157,158,159,160,161]\n",
    "#idlist=[362,382,381,380,374,373,390,249,263,466,388,387,386,385,384,398]\n",
    "# LEFT_EYE=[362,382,381,380,374,373,390,249,263,466,388,387,386,385,384,398]\n",
    "# RIGHT_EYE=[33,7,163,144,145,153,154,155,133,173,157,158,159,160,161,246]\n",
    "# LEFT_IRIS=[474,475,476,477]\n",
    "# RIGHT_IRIS=[469,470,471,472]\n",
    "idlist=[362,382,381,380,374,373,390,249,263,466,388,387,386,385,384]"
   ]
  },
  {
   "cell_type": "code",
   "execution_count": 19,
   "metadata": {},
   "outputs": [],
   "source": [
    "while True:\n",
    "    su,img=cap.read()\n",
    "    img,faces=detector.findFaceMesh(img)\n",
    "    img,_=detector.findFaceMesh(img)\n",
    "       \n",
    "    if faces:\n",
    "        face=faces[0]\n",
    "        for id in idlist:\n",
    "            cv2.circle(img,face[id],3,(0,255,0),cv2.FILLED)\n",
    "        leftUp=face[159]\n",
    "        leftDown=face[23]\n",
    "        leftLeft=face[130]\n",
    "        leftRight=face[243]\n",
    "        length_ver,_=detector.findDistance(leftUp,leftDown)\n",
    "        length_hor,_=detector.findDistance(leftLeft,leftRight)\n",
    "        cv2.line(img,leftUp,leftDown,(0,200,0),3)\n",
    "        cv2.line(img,leftLeft,leftRight,(0,200,0),3)\n",
    "        #print((length_ver/length_hor)*100)\n",
    "        status=((length_ver/length_hor)*100)\n",
    "        if status<30:\n",
    "            #  txt_speech.say(\"warnning\")#\n",
    "            #  txt_speech.runAndWait() # to delay the speak\n",
    "            text=cv2.putText(img,text=\"WARNING..!\",org=(200,100),fontFace=cv2.FONT_HERSHEY_COMPLEX,fontScale=2,color=(0,0,255),thickness=5)\n",
    "            winsound.Beep(frequency, duration)\n",
    "        # else:\n",
    "        #     #txt_speech.say(\"open\")\n",
    "        #     txt_speech.runAndWait()\n",
    "   \n",
    "    cv2.imshow(\"frame\",img)\n",
    "    if cv2.waitKey(1)& 0XFF==ord('q'):\n",
    "        break\n",
    "cap.release()\n",
    "cv2.destroyAllWindows()"
   ]
  },
  {
   "cell_type": "code",
   "execution_count": null,
   "metadata": {},
   "outputs": [],
   "source": []
  }
 ],
 "metadata": {
  "kernelspec": {
   "display_name": "Python 3",
   "language": "python",
   "name": "python3"
  },
  "language_info": {
   "codemirror_mode": {
    "name": "ipython",
    "version": 3
   },
   "file_extension": ".py",
   "mimetype": "text/x-python",
   "name": "python",
   "nbconvert_exporter": "python",
   "pygments_lexer": "ipython3",
   "version": "3.10.0"
  },
  "orig_nbformat": 4
 },
 "nbformat": 4,
 "nbformat_minor": 2
}
